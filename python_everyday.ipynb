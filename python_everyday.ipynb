{
 "cells": [
  {
   "cell_type": "markdown",
   "id": "c60a09b0",
   "metadata": {},
   "source": [
    "## References:\n",
    "\n",
    "- https://docs.python.org/3/library/stdtypes.html#iterator-types\n",
    "\n",
    "- https://docs.python.org/3/library/functions.html\n",
    "\n",
    "- https://docs.python.org/3/library/index.html"
   ]
  },
  {
   "cell_type": "markdown",
   "id": "b2464aae",
   "metadata": {},
   "source": [
    "## Table of content\n",
    "- [Unpacking](#Unpacking)\n",
    "- [Get index](#Get-index)\n",
    "- [If satatement](#If-satatement)\n",
    "- [Iteration of a copy](#Iteration-of-a-copy)\n",
    "- [Reverse iteration](#Reverse-iteration)"
   ]
  },
  {
   "cell_type": "markdown",
   "id": "09d7b17d",
   "metadata": {},
   "source": [
    "### Unpacking"
   ]
  },
  {
   "cell_type": "code",
   "execution_count": 52,
   "id": "4e04b25e",
   "metadata": {},
   "outputs": [
    {
     "name": "stdout",
     "output_type": "stream",
     "text": [
      "4\n"
     ]
    }
   ],
   "source": [
    "_, a = (2,4)\n",
    "print(a)"
   ]
  },
  {
   "cell_type": "code",
   "execution_count": 50,
   "id": "4abb7404",
   "metadata": {},
   "outputs": [
    {
     "name": "stdout",
     "output_type": "stream",
     "text": [
      "6\n"
     ]
    }
   ],
   "source": [
    "*_, a = (2,4,6)\n",
    "print(a)"
   ]
  },
  {
   "cell_type": "code",
   "execution_count": 49,
   "id": "ca74dc72",
   "metadata": {},
   "outputs": [
    {
     "name": "stdout",
     "output_type": "stream",
     "text": [
      "2\n"
     ]
    }
   ],
   "source": [
    "a, _ = (2,4)\n",
    "print(a)"
   ]
  },
  {
   "cell_type": "code",
   "execution_count": 48,
   "id": "07d53ec8",
   "metadata": {},
   "outputs": [
    {
     "name": "stdout",
     "output_type": "stream",
     "text": [
      "2\n"
     ]
    }
   ],
   "source": [
    "a, *_ = (2,4,6)\n",
    "print(a)"
   ]
  },
  {
   "cell_type": "code",
   "execution_count": 56,
   "id": "7dd26041",
   "metadata": {},
   "outputs": [
    {
     "name": "stdout",
     "output_type": "stream",
     "text": [
      "2\n",
      "[4, 6]\n"
     ]
    }
   ],
   "source": [
    "a, *b = (2,4,6)\n",
    "print(a)\n",
    "print(b)"
   ]
  },
  {
   "cell_type": "code",
   "execution_count": 58,
   "id": "04da3148",
   "metadata": {},
   "outputs": [
    {
     "name": "stdout",
     "output_type": "stream",
     "text": [
      "2\n",
      "[4, 6, 8]\n",
      "10\n"
     ]
    }
   ],
   "source": [
    "a, *b, c = (2,4,6,8,10)\n",
    "print(a)\n",
    "print(b)\n",
    "print(c)"
   ]
  },
  {
   "cell_type": "code",
   "execution_count": 62,
   "id": "1e3245d7",
   "metadata": {},
   "outputs": [
    {
     "name": "stdout",
     "output_type": "stream",
     "text": [
      "2\n",
      "10\n"
     ]
    }
   ],
   "source": [
    "a, *_, c = (2,4,6,8,10)\n",
    "print(a)\n",
    "print(c)"
   ]
  },
  {
   "cell_type": "code",
   "execution_count": 59,
   "id": "28922ccc",
   "metadata": {},
   "outputs": [
    {
     "name": "stdout",
     "output_type": "stream",
     "text": [
      "John Smith is 23 years old.\n"
     ]
    }
   ],
   "source": [
    "inputs = [\n",
    "    'John',\n",
    "    'Smith',\n",
    "    'USA',\n",
    "    'Blue',\n",
    "    'Brown',\n",
    "    23\n",
    "]\n",
    "\n",
    "first_name, last_name, *_, age = inputs\n",
    "\n",
    "print(f'{first_name} {last_name} is {age} years old.')"
   ]
  },
  {
   "cell_type": "markdown",
   "id": "8536c568",
   "metadata": {},
   "source": [
    "### Get index"
   ]
  },
  {
   "cell_type": "code",
   "execution_count": 42,
   "id": "0a1e2dc7",
   "metadata": {},
   "outputs": [
    {
     "name": "stdout",
     "output_type": "stream",
     "text": [
      "index of 50 is 4\n"
     ]
    }
   ],
   "source": [
    "\"\"\"for list\"\"\"\n",
    "\n",
    "# using index method\n",
    "\n",
    "my_list = [10, 20, 30, 40, 50]\n",
    "value = 50\n",
    "\n",
    "if value in my_list:\n",
    "    index = my_list.index(value)\n",
    "    print(f'index of {value} is {index}')\n",
    "else:\n",
    "    print(\"Value not found in the list.\")\n"
   ]
  },
  {
   "cell_type": "code",
   "execution_count": 45,
   "id": "af083587",
   "metadata": {},
   "outputs": [
    {
     "name": "stdout",
     "output_type": "stream",
     "text": [
      "index of 50 is 4\n"
     ]
    }
   ],
   "source": [
    "\"\"\"for list\"\"\"\n",
    "\n",
    "# using enumerate without start\n",
    "\n",
    "my_list = [10, 20, 30, 40, 50]\n",
    "value = 50\n",
    "\n",
    "for index, val in enumerate(my_list):\n",
    "    if val == value:\n",
    "        print(f'index of {value} is {index}')\n",
    "        break"
   ]
  },
  {
   "cell_type": "code",
   "execution_count": 46,
   "id": "09bf21af",
   "metadata": {},
   "outputs": [
    {
     "name": "stdout",
     "output_type": "stream",
     "text": [
      "index of 50 is 5\n"
     ]
    }
   ],
   "source": [
    "\"\"\"for list\"\"\"\n",
    "\n",
    "# using enumerate with start\n",
    "\n",
    "my_list = [10, 20, 30, 40, 50]\n",
    "value = 50\n",
    "\n",
    "for index, val in enumerate(my_list, start=1):\n",
    "    if val == value:\n",
    "        print(f'index of {value} is {index}')\n",
    "        break"
   ]
  },
  {
   "cell_type": "code",
   "execution_count": 26,
   "id": "3140e8f1",
   "metadata": {},
   "outputs": [
    {
     "name": "stdout",
     "output_type": "stream",
     "text": [
      "Abcabc\n",
      "1\n"
     ]
    }
   ],
   "source": [
    "# for string\n",
    "\n",
    "x = 'abcABC'\n",
    "\n",
    "y = x.title()\n",
    "print(y)\n",
    "\n",
    "z = y.find('b')   # 'list' object has no attribute 'find'\n",
    "print(z)"
   ]
  },
  {
   "cell_type": "markdown",
   "id": "7362a0d6",
   "metadata": {},
   "source": [
    "### If satatement"
   ]
  },
  {
   "cell_type": "code",
   "execution_count": 41,
   "id": "7500c253",
   "metadata": {},
   "outputs": [
    {
     "name": "stdout",
     "output_type": "stream",
     "text": [
      "0\n",
      "0\n"
     ]
    }
   ],
   "source": [
    "if 2 > 3:\n",
    "    x = 1\n",
    "else:\n",
    "    x = 0\n",
    "print(x)\n",
    "\n",
    "\n",
    "x = 1 if 2 > 3 else 0\n",
    "print(x)"
   ]
  },
  {
   "cell_type": "code",
   "execution_count": 73,
   "id": "b1919380",
   "metadata": {},
   "outputs": [
    {
     "name": "stdout",
     "output_type": "stream",
     "text": [
      "Conditions not satisfied.\n"
     ]
    }
   ],
   "source": [
    "# conditions all\n",
    "\n",
    "subs = 2400\n",
    "likes = 200\n",
    "comment = 56\n",
    "\n",
    "conditions = [\n",
    "    subs > 150,\n",
    "    likes > 150,\n",
    "    comment < 50\n",
    "]\n",
    "\n",
    "if all(conditions):\n",
    "    print('Conditions satisfied.')\n",
    "else:\n",
    "    print('Conditions not satisfied.')"
   ]
  },
  {
   "cell_type": "code",
   "execution_count": 74,
   "id": "c359e803",
   "metadata": {},
   "outputs": [
    {
     "name": "stdout",
     "output_type": "stream",
     "text": [
      "Conditions satisfied.\n"
     ]
    }
   ],
   "source": [
    "# conditions\n",
    "\n",
    "subs = 2400\n",
    "likes = 200\n",
    "comment = 56\n",
    "\n",
    "conditions = [\n",
    "    subs > 150,\n",
    "    likes > 150,\n",
    "    comment < 50\n",
    "]\n",
    "\n",
    "# not using all(conditions)\n",
    "if conditions:                   \n",
    "    print('Conditions satisfied.')\n",
    "else:\n",
    "    print('Conditions not satisfied.')"
   ]
  },
  {
   "cell_type": "code",
   "execution_count": 75,
   "id": "00dbacda",
   "metadata": {},
   "outputs": [
    {
     "name": "stdout",
     "output_type": "stream",
     "text": [
      "Conditions satisfied.\n"
     ]
    }
   ],
   "source": [
    "# conditions any\n",
    "\n",
    "subs = 2400\n",
    "likes = 200\n",
    "comment = 56\n",
    "\n",
    "checkers = [\n",
    "    subs > 150,\n",
    "    likes > 150,\n",
    "    comment < 50\n",
    "]\n",
    "\n",
    "# not using any(checkers)\n",
    "if any(checkers):                   \n",
    "    print('Conditions satisfied.')\n",
    "else:\n",
    "    print('Conditions not satisfied.')"
   ]
  },
  {
   "cell_type": "markdown",
   "id": "6a03aa15",
   "metadata": {},
   "source": [
    "## Iteration of a copy\n",
    "\n",
    "Code that modifies a collection while iterating over that same collection."
   ]
  },
  {
   "cell_type": "code",
   "execution_count": 2,
   "id": "a3ceb115",
   "metadata": {},
   "outputs": [
    {
     "name": "stdout",
     "output_type": "stream",
     "text": [
      "{'Hans': 'active', 'status': 'active'}\n",
      "{'Hans': 'active', 'status': 'active'}\n"
     ]
    }
   ],
   "source": [
    "# Create a sample collection\n",
    "users = {'Hans': 'active', 'Éléonore': 'inactive', 'status': 'active'}\n",
    "\n",
    "# Strategy:  Iterate over a copy\n",
    "for user, status in users.copy().items():\n",
    "    if status == 'inactive':\n",
    "        del users[user]\n",
    "print(users)\n",
    "        \n",
    "\n",
    "# Strategy:  Create a new collection\n",
    "active_users = {}\n",
    "for user, status in users.items():\n",
    "    if status == 'active':\n",
    "        active_users[user] = status\n",
    "print(active_users)"
   ]
  },
  {
   "cell_type": "markdown",
   "id": "2df952ea",
   "metadata": {},
   "source": [
    "### Reverse iteration"
   ]
  },
  {
   "cell_type": "markdown",
   "id": "417a159f",
   "metadata": {},
   "source": [
    "To iterate over a list in reverse order in Python, we can use the `reversed()` function or the `[::-1]` slicing technique. Here's how you can use both methods:"
   ]
  },
  {
   "cell_type": "code",
   "execution_count": 5,
   "id": "5b561d1e",
   "metadata": {},
   "outputs": [
    {
     "name": "stdout",
     "output_type": "stream",
     "text": [
      "5\n",
      "4\n",
      "3\n",
      "2\n",
      "1\n"
     ]
    }
   ],
   "source": [
    "# 1. Using the reversed() function:\n",
    "\n",
    "my_list = [1, 2, 3, 4, 5]\n",
    "\n",
    "for item in reversed(my_list):\n",
    "    print(item)"
   ]
  },
  {
   "cell_type": "code",
   "execution_count": 6,
   "id": "15839d7b",
   "metadata": {},
   "outputs": [
    {
     "name": "stdout",
     "output_type": "stream",
     "text": [
      "5\n",
      "4\n",
      "3\n",
      "2\n",
      "1\n"
     ]
    }
   ],
   "source": [
    "# 2. Using the [::-1] slicing technique:\n",
    "\n",
    "my_list = [1, 2, 3, 4, 5]\n",
    "\n",
    "for item in my_list[::-1]:\n",
    "    print(item)"
   ]
  },
  {
   "cell_type": "markdown",
   "id": "337db2fd",
   "metadata": {},
   "source": [
    "The `[::]` slicing notation in Python allows us to create sublists or iterate over elements with specific step sizes. When we use the notation `[::-1]`, it effectively creates a copy of the original list with a step size of `-1`, which reverses the order of the elements\n",
    "\n",
    "\n",
    "Here's how the slicing works step by step:\n",
    "\n",
    "1. Start: `::` indicates the start and end points of the sublist. Leaving them empty means it will start from the beginning and end at the end of the list.\n",
    "2. Step size: `-1` indicates that the sublist should be traversed in reverse order, moving from the end to the beginning of the list.\n",
    "3. Result: The sublist created using `[::-1]` will be a copy of `my_list` with the elements reversed.\n",
    "\n",
    "\n",
    "```python\n",
    "my_list = [1, 2, 3, 4, 5]\n",
    "new_list = my_list[start:end:step]\n",
    "new_reverse_list = my_list[end:start:-step]\n",
    "```"
   ]
  },
  {
   "cell_type": "code",
   "execution_count": 19,
   "id": "263a582f",
   "metadata": {},
   "outputs": [
    {
     "name": "stdout",
     "output_type": "stream",
     "text": [
      "new_list [2, 3, 4]\n",
      "new_reverse_list [4, 3, 2]\n"
     ]
    }
   ],
   "source": [
    "my_list = [1, 2, 3, 4, 5]\n",
    "\n",
    "new_list = my_list[1:4:1]\n",
    "print('new_list', new_list)\n",
    "\n",
    "new_reverse_list = my_list[3:0:-1]\n",
    "print('new_reverse_list', new_reverse_list)"
   ]
  },
  {
   "cell_type": "markdown",
   "id": "265e4f65",
   "metadata": {},
   "source": [
    "# Match statement\n",
    "\n",
    "- https://docs.python.org/3/tutorial/controlflow.html#match-statements"
   ]
  },
  {
   "cell_type": "code",
   "execution_count": null,
   "id": "cfa75562",
   "metadata": {},
   "outputs": [],
   "source": []
  },
  {
   "cell_type": "markdown",
   "id": "7a86d244",
   "metadata": {},
   "source": [
    "## Sorting list"
   ]
  },
  {
   "cell_type": "code",
   "execution_count": 8,
   "id": "06118cc0",
   "metadata": {},
   "outputs": [
    {
     "name": "stdout",
     "output_type": "stream",
     "text": [
      "['apple', 'apple', 'banana', 'banana', 'kiwi', 'orange', 'pear']\n"
     ]
    }
   ],
   "source": [
    "fruits = ['orange', 'apple', 'pear', 'banana', 'kiwi', 'apple', 'banana']\n",
    "fruits.sort()\n",
    "print(fruits)"
   ]
  },
  {
   "cell_type": "code",
   "execution_count": 9,
   "id": "2f0a7522",
   "metadata": {},
   "outputs": [
    {
     "name": "stdout",
     "output_type": "stream",
     "text": [
      "['orange', 'apple', 'pear', 'banana', 'kiwi', 'apple', 'banana']\n",
      "['apple', 'apple', 'banana', 'banana', 'kiwi', 'orange', 'pear']\n"
     ]
    }
   ],
   "source": [
    "fruits = ['orange', 'apple', 'pear', 'banana', 'kiwi', 'apple', 'banana']\n",
    "sorted_fruits = sorted(fruits)\n",
    "print(fruits)\n",
    "print(sorted_fruits)"
   ]
  },
  {
   "cell_type": "markdown",
   "id": "12c85e2a",
   "metadata": {},
   "source": [
    "## Sorting dictionary"
   ]
  },
  {
   "cell_type": "code",
   "execution_count": 11,
   "id": "548e3c1a",
   "metadata": {},
   "outputs": [],
   "source": [
    "my_dict = { 'num6': 6, 'num3': 3, 'num2': 2, 'num4': 4, 'num1': 1, 'num5': 5}\n",
    "\n",
    "# we can not use my_dict.sort()\n",
    "# because 'dict' object has no attribute 'sort'"
   ]
  },
  {
   "cell_type": "code",
   "execution_count": 12,
   "id": "225dc149",
   "metadata": {},
   "outputs": [
    {
     "name": "stdout",
     "output_type": "stream",
     "text": [
      "['num1', 'num2', 'num3', 'num4', 'num5', 'num6']\n"
     ]
    }
   ],
   "source": [
    "my_dict = { 'num6': 6, 'num3': 3, 'num2': 2, 'num4': 4, 'num1': 1, 'num5': 5}\n",
    "sorted_dict = sorted(my_dict)\n",
    "print(sorted_dict)"
   ]
  },
  {
   "cell_type": "markdown",
   "id": "6ec7e89c",
   "metadata": {},
   "source": [
    "**How python sorted function works**\n",
    "\n",
    "\n",
    "The sorted() method can accept up to 3 parameters:\n",
    "\n",
    "- iterable – the data to iterate over. It could be a tuple, list, or dictionary.\n",
    "- key – an optional value, the function that helps you to perform a custom sort operation.\n",
    "- reverse – another optional value. It helps you arrange the sorted data in ascending or descending order\n",
    "\n",
    "<br>\n",
    "\n",
    "To sort a dictionary by its values in Python, we can use the `sorted()` function along with a custom sorting key. Here's an example:\n",
    "\n",
    "```python\n",
    "my_dict = {'apple': 10, 'banana': 5, 'orange': 8, 'grape': 12, 'kiwi': 3}\n",
    "\n",
    "sorted_dict = sorted(my_dict.items(), key=lambda x: x[1])\n",
    "\n",
    "for key, value in sorted_dict:\n",
    "    print(key, value)\n",
    "```\n",
    "\n",
    "In this example, we have a dictionary `my_dict` with key-value pairs representing items and their corresponding values. We use the `sorted()` function to sort the dictionary items based on their values. The `key=lambda x: x[1]` specifies that we want to sort the items based on the values (index 1 in each item).\n",
    "\n",
    "The `sorted()` function **`returns a list`** of sorted key-value pairs as tuples. We iterate over the sorted key-value pairs using a loop and print each key and value.\n",
    "\n",
    "The output will be:\n",
    "\n",
    "```\n",
    "kiwi 3\n",
    "banana 5\n",
    "orange 8\n",
    "apple 10\n",
    "grape 12\n",
    "```\n",
    "\n",
    "This demonstrates how to sort a dictionary by its values in ascending order. If we want to sort the dictionary in descending order, we can add the `reverse=True` parameter to the `sorted()` function:\n",
    "\n",
    "```python\n",
    "sorted_dict = sorted(my_dict.items(), key=lambda x: x[1], reverse=True)\n",
    "```\n",
    "\n",
    "This will give us the following output:\n",
    "\n",
    "```\n",
    "grape 12\n",
    "apple 10\n",
    "orange 8\n",
    "banana 5\n",
    "kiwi 3\n",
    "```\n",
    "\n",
    "By using the `sorted()` function with a custom sorting key, we can sort a dictionary by its values in either ascending or descending order.\n",
    "\n"
   ]
  },
  {
   "cell_type": "code",
   "execution_count": 22,
   "id": "da2adf82",
   "metadata": {},
   "outputs": [
    {
     "name": "stdout",
     "output_type": "stream",
     "text": [
      "sorted_dict_keys_ascending [('apple', 10), ('banana', 5), ('grape', 12), ('kiwi', 3), ('orange', 8)]\n",
      "sorted_dict_keys_descending [('orange', 8), ('kiwi', 3), ('grape', 12), ('banana', 5), ('apple', 10)]\n",
      "sorted_dict_values_ascending [('kiwi', 3), ('banana', 5), ('orange', 8), ('apple', 10), ('grape', 12)]\n",
      "sorted_dict_values_descending [('grape', 12), ('apple', 10), ('orange', 8), ('banana', 5), ('kiwi', 3)]\n"
     ]
    }
   ],
   "source": [
    "my_dict = {'apple': 10, 'banana': 5, 'orange': 8, 'grape': 12, 'kiwi': 3}\n",
    "\n",
    "# sort dictionary keys in ascending order\n",
    "sorted_dict_keys_ascending = sorted(my_dict.items(), key=lambda x: x[0], reverse=False)\n",
    "print('sorted_dict_keys_ascending' , sorted_dict_keys_ascending)\n",
    "\n",
    "\n",
    "# sort dictionary keys in descending order\n",
    "sorted_dict_keys_descending = sorted(my_dict.items(), key=lambda x: x[0], reverse=True)\n",
    "print('sorted_dict_keys_descending' , sorted_dict_keys_descending)\n",
    "\n",
    "\n",
    "# sort dictionary values in ascending order\n",
    "sorted_dict_values_ascending = sorted(my_dict.items(), key=lambda x: x[1], reverse=False)\n",
    "print('sorted_dict_values_ascending' , sorted_dict_values_ascending)\n",
    "\n",
    "# sort dictionary values in descending order\n",
    "sorted_dict_values_descending = sorted(my_dict.items(), key=lambda x: x[1], reverse=True)\n",
    "print('sorted_dict_values_descending' , sorted_dict_values_descending)"
   ]
  },
  {
   "cell_type": "code",
   "execution_count": 28,
   "id": "1c5db01c",
   "metadata": {},
   "outputs": [
    {
     "name": "stdout",
     "output_type": "stream",
     "text": [
      "sorted_dict_values_ascending [('kiwi', 3), ('banana', 5), ('orange', 8), ('apple', 10), ('grape', 12)]\n",
      "sorted_keys_ascending ['kiwi', 'banana', 'orange', 'apple', 'grape']\n",
      "sorted_keys_ascending [3, 5, 8, 10, 12]\n"
     ]
    }
   ],
   "source": [
    "# we can use items to sort the item according to asending order of values\n",
    "sorted_dict_values_ascending = sorted(my_dict.items(), key=lambda x: x[1], reverse=False)\n",
    "print('sorted_dict_values_ascending' , sorted_dict_values_ascending)\n",
    "\n",
    "\n",
    "# we can use keys instead of items to sort the keys according to asending order of values\n",
    "my_dict = {'apple': 10, 'banana': 5, 'orange': 8, 'grape': 12, 'kiwi': 3}\n",
    "sorted_keys_ascending = sorted(my_dict.keys(), key=lambda x: my_dict[x], reverse=False)\n",
    "print('sorted_keys_ascending' , sorted_keys_ascending)\n",
    "\n",
    "# list of values in ascending order\n",
    "my_dict = {'apple': 10, 'banana': 5, 'orange': 8, 'grape': 12, 'kiwi': 3}\n",
    "sorted_keys_ascending = sorted(my_dict.values(), reverse=False)\n",
    "print('sorted_keys_ascending' , sorted_keys_ascending)"
   ]
  },
  {
   "cell_type": "code",
   "execution_count": null,
   "id": "a61a9cd8",
   "metadata": {},
   "outputs": [],
   "source": []
  },
  {
   "cell_type": "markdown",
   "id": "3410f79a",
   "metadata": {},
   "source": [
    "## list comprehension"
   ]
  },
  {
   "cell_type": "code",
   "execution_count": 13,
   "id": "ab9a52d0",
   "metadata": {},
   "outputs": [
    {
     "name": "stdout",
     "output_type": "stream",
     "text": [
      "[0, 1, 2, 3, 4, 5, 6, 7, 8, 9, 10]\n"
     ]
    }
   ],
   "source": [
    "nlist = [i for i in range(11)]\n",
    "print(nlist)"
   ]
  },
  {
   "cell_type": "code",
   "execution_count": 16,
   "id": "b675e62a",
   "metadata": {},
   "outputs": [
    {
     "name": "stdout",
     "output_type": "stream",
     "text": [
      "[0, 2, 4, 6, 8, 10]\n"
     ]
    }
   ],
   "source": [
    "# list comprehension with if statement\n",
    "\n",
    "nlist = [i for i in range(11) if i%2==0]\n",
    "print(nlist)"
   ]
  },
  {
   "cell_type": "code",
   "execution_count": 17,
   "id": "f6b77fed",
   "metadata": {},
   "outputs": [
    {
     "name": "stdout",
     "output_type": "stream",
     "text": [
      "[0, 'odd', 2, 'odd', 4, 'odd', 6, 'odd', 8, 'odd', 10]\n"
     ]
    }
   ],
   "source": [
    "# list comprehension with if and else statement\n",
    "\n",
    "nlist = [i if i%2==0 else 'odd' for i in range(11)]\n",
    "print(nlist)"
   ]
  },
  {
   "cell_type": "code",
   "execution_count": 30,
   "id": "5d64e164",
   "metadata": {},
   "outputs": [
    {
     "name": "stdout",
     "output_type": "stream",
     "text": [
      "[[0, 0, 0, 0, 0], [0, 0, 0, 0, 0], [0, 0, 0, 0, 0], [0, 0, 0, 0, 0], [0, 0, 0, 0, 0]]\n"
     ]
    }
   ],
   "source": [
    "# list of list\n",
    "\n",
    "lol = [[0 for _ in range(5)] for _ in range(5) ]\n",
    "print(lol)"
   ]
  },
  {
   "cell_type": "markdown",
   "id": "d0381d17",
   "metadata": {},
   "source": [
    "## list comprehension + lambda"
   ]
  },
  {
   "cell_type": "code",
   "execution_count": 5,
   "id": "b3442221",
   "metadata": {},
   "outputs": [
    {
     "name": "stdout",
     "output_type": "stream",
     "text": [
      "200\n",
      "400\n",
      "600\n",
      "800\n"
     ]
    }
   ],
   "source": [
    "iter_list = [lambda arg=i: arg*100 for i in range(1,10) if i%2==0]\n",
    "for func in iter_list:\n",
    "    print(func())"
   ]
  },
  {
   "cell_type": "code",
   "execution_count": 6,
   "id": "acba5805",
   "metadata": {},
   "outputs": [
    {
     "name": "stdout",
     "output_type": "stream",
     "text": [
      "200\n",
      "400\n",
      "6\n",
      "8\n"
     ]
    }
   ],
   "source": [
    "iter_list = [lambda arg=i: arg*100 if arg<5 else arg for i in range(1,10) if i%2==0]\n",
    "for func in iter_list:\n",
    "    print(func())"
   ]
  },
  {
   "cell_type": "markdown",
   "id": "b5eb986d",
   "metadata": {},
   "source": [
    "## dictionary comprehension"
   ]
  },
  {
   "cell_type": "code",
   "execution_count": 19,
   "id": "fb0ca2dd",
   "metadata": {},
   "outputs": [
    {
     "name": "stdout",
     "output_type": "stream",
     "text": [
      "{'Akash': 5, 'Hira': 4, 'Abubakar': 8, 'Piash': 5}\n"
     ]
    }
   ],
   "source": [
    "names = [\n",
    "    'Akash',\n",
    "    'Hira',\n",
    "    'Abubakar',\n",
    "    'Piash'\n",
    "]\n",
    "\n",
    "length = {name: len(name) for name in names}\n",
    "\n",
    "print(length)"
   ]
  },
  {
   "cell_type": "code",
   "execution_count": 39,
   "id": "226eeaf3",
   "metadata": {},
   "outputs": [
    {
     "name": "stdout",
     "output_type": "stream",
     "text": [
      "{'h': 1, 'e': 2, 'l': 2, 'o': 1, ' ': 4, 'm': 3, 'y': 1, 'n': 1, 'a': 1, 'i': 2, 's': 1, 't': 1}\n",
      "{'l': 2, 'm': 3, 'n': 1, 'i': 2, 'o': 1, 'e': 2, ' ': 4, 'h': 1, 'y': 1, 'a': 1, 't': 1, 's': 1}\n"
     ]
    }
   ],
   "source": [
    "sentence = 'hello my name is tim'\n",
    "\n",
    "x = {char: sentence.count(char) for char in sentence}\n",
    "print(x)\n",
    "\n",
    "x = {char: sentence.count(char) for char in set(sentence)}\n",
    "print(x)"
   ]
  },
  {
   "cell_type": "markdown",
   "id": "ffccb06b",
   "metadata": {},
   "source": [
    "## tuple comprehension¶"
   ]
  },
  {
   "cell_type": "code",
   "execution_count": 34,
   "id": "0ac01111",
   "metadata": {},
   "outputs": [
    {
     "name": "stdout",
     "output_type": "stream",
     "text": [
      "('h', 'e', 'l', 'l', 'o')\n"
     ]
    }
   ],
   "source": [
    "x = (i for i in 'hello')\n",
    "print(tuple(x))"
   ]
  },
  {
   "cell_type": "markdown",
   "id": "5837ba3b",
   "metadata": {},
   "source": [
    "## functions"
   ]
  },
  {
   "cell_type": "code",
   "execution_count": 3,
   "id": "226d908f",
   "metadata": {},
   "outputs": [
    {
     "name": "stdout",
     "output_type": "stream",
     "text": [
      "[1]\n",
      "[1, 2]\n",
      "[1, 2, 3]\n",
      "[1]\n",
      "[2]\n",
      "[3]\n"
     ]
    }
   ],
   "source": [
    "# The default value is evaluated only once\n",
    "\n",
    "def f(a, L=[]):\n",
    "    L.append(a)\n",
    "    return L\n",
    "\n",
    "print(f(1))\n",
    "print(f(2))\n",
    "print(f(3))\n",
    "\n",
    "\n",
    "\n",
    "\n",
    "# If we don’t want the default to be shared between subsequent calls, \n",
    "# we can write the function like this instead:\n",
    "\n",
    "def f(a, L=None):\n",
    "    if L is None:\n",
    "        L = []\n",
    "    L.append(a)\n",
    "    return L\n",
    "\n",
    "print(f(1))\n",
    "print(f(2))\n",
    "print(f(3))"
   ]
  },
  {
   "cell_type": "markdown",
   "id": "25ebf1ab",
   "metadata": {},
   "source": [
    "## Key words argumenet"
   ]
  },
  {
   "cell_type": "code",
   "execution_count": 8,
   "id": "8179b43a",
   "metadata": {},
   "outputs": [
    {
     "name": "stdout",
     "output_type": "stream",
     "text": [
      "{'a': 1, 'b': 2, 'c': 3}\n"
     ]
    }
   ],
   "source": [
    "def func(**k):\n",
    "    print(k)\n",
    "    return\n",
    "\n",
    "func(a=1, b=2, c=3)"
   ]
  },
  {
   "cell_type": "code",
   "execution_count": 10,
   "id": "a5d83b28",
   "metadata": {},
   "outputs": [
    {
     "name": "stdout",
     "output_type": "stream",
     "text": [
      "6\n"
     ]
    }
   ],
   "source": [
    "def func(**k):\n",
    "    ans = k['a'] * k['b'] * k['c']\n",
    "    print(ans)\n",
    "    return\n",
    "\n",
    "func(a=1, b=2, c=3)"
   ]
  },
  {
   "cell_type": "markdown",
   "id": "1d550411",
   "metadata": {},
   "source": [
    "## map\n",
    "---\n",
    "```The map() function in Python is used to apply a specified function to each item of an iterable (e.g., a list) and returns an iterator of the results.```"
   ]
  },
  {
   "cell_type": "code",
   "execution_count": 1,
   "id": "9a721fc5",
   "metadata": {},
   "outputs": [
    {
     "name": "stdout",
     "output_type": "stream",
     "text": [
      "['APPLE', 'BANANA', 'CHERRY']\n"
     ]
    }
   ],
   "source": [
    "def uppercase(s):\n",
    "    return s.upper()\n",
    "\n",
    "words = ['apple', 'banana', 'cherry']\n",
    "uppercase_words = map(uppercase, words)\n",
    "\n",
    "print(list(uppercase_words))"
   ]
  },
  {
   "cell_type": "code",
   "execution_count": 3,
   "id": "c0703eba",
   "metadata": {},
   "outputs": [
    {
     "name": "stdout",
     "output_type": "stream",
     "text": [
      "['APPLE', 'BANANA', 'CHERRY']\n"
     ]
    }
   ],
   "source": [
    "# using list comprehension\n",
    "\n",
    "def uppercase(s):\n",
    "    return s.upper()\n",
    "\n",
    "words = ['apple', 'banana', 'cherry']\n",
    "uppercase_words = [uppercase(word) for word in words]\n",
    "\n",
    "print(uppercase_words)"
   ]
  },
  {
   "cell_type": "code",
   "execution_count": null,
   "id": "c936a78e",
   "metadata": {},
   "outputs": [],
   "source": []
  },
  {
   "cell_type": "code",
   "execution_count": null,
   "id": "8c5d93b2",
   "metadata": {},
   "outputs": [],
   "source": []
  },
  {
   "cell_type": "code",
   "execution_count": null,
   "id": "49dc35ec",
   "metadata": {},
   "outputs": [],
   "source": []
  },
  {
   "cell_type": "code",
   "execution_count": null,
   "id": "b1ee3871",
   "metadata": {},
   "outputs": [],
   "source": []
  },
  {
   "cell_type": "code",
   "execution_count": null,
   "id": "c5ac8e1c",
   "metadata": {},
   "outputs": [],
   "source": []
  },
  {
   "cell_type": "code",
   "execution_count": null,
   "id": "a9123761",
   "metadata": {},
   "outputs": [],
   "source": []
  },
  {
   "cell_type": "code",
   "execution_count": null,
   "id": "19fe021f",
   "metadata": {},
   "outputs": [],
   "source": []
  },
  {
   "cell_type": "code",
   "execution_count": null,
   "id": "63005906",
   "metadata": {},
   "outputs": [],
   "source": []
  },
  {
   "cell_type": "code",
   "execution_count": null,
   "id": "090161c0",
   "metadata": {},
   "outputs": [],
   "source": []
  },
  {
   "cell_type": "code",
   "execution_count": null,
   "id": "18c0d92a",
   "metadata": {},
   "outputs": [],
   "source": []
  }
 ],
 "metadata": {
  "kernelspec": {
   "display_name": "Python 3 (ipykernel)",
   "language": "python",
   "name": "python3"
  },
  "language_info": {
   "codemirror_mode": {
    "name": "ipython",
    "version": 3
   },
   "file_extension": ".py",
   "mimetype": "text/x-python",
   "name": "python",
   "nbconvert_exporter": "python",
   "pygments_lexer": "ipython3",
   "version": "3.10.9"
  }
 },
 "nbformat": 4,
 "nbformat_minor": 5
}
