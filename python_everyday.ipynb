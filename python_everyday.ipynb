{
 "cells": [
  {
   "cell_type": "markdown",
   "id": "c60a09b0",
   "metadata": {},
   "source": [
    "https://docs.python.org/3/library/stdtypes.html#iterator-types"
   ]
  },
  {
   "cell_type": "markdown",
   "id": "09d7b17d",
   "metadata": {},
   "source": [
    "## Unpacking"
   ]
  },
  {
   "cell_type": "code",
   "execution_count": 52,
   "id": "4e04b25e",
   "metadata": {},
   "outputs": [
    {
     "name": "stdout",
     "output_type": "stream",
     "text": [
      "4\n"
     ]
    }
   ],
   "source": [
    "_, a = (2,4)\n",
    "print(a)"
   ]
  },
  {
   "cell_type": "code",
   "execution_count": 50,
   "id": "4abb7404",
   "metadata": {},
   "outputs": [
    {
     "name": "stdout",
     "output_type": "stream",
     "text": [
      "6\n"
     ]
    }
   ],
   "source": [
    "*_, a = (2,4,6)\n",
    "print(a)"
   ]
  },
  {
   "cell_type": "code",
   "execution_count": 49,
   "id": "ca74dc72",
   "metadata": {},
   "outputs": [
    {
     "name": "stdout",
     "output_type": "stream",
     "text": [
      "2\n"
     ]
    }
   ],
   "source": [
    "a, _ = (2,4)\n",
    "print(a)"
   ]
  },
  {
   "cell_type": "code",
   "execution_count": 48,
   "id": "07d53ec8",
   "metadata": {},
   "outputs": [
    {
     "name": "stdout",
     "output_type": "stream",
     "text": [
      "2\n"
     ]
    }
   ],
   "source": [
    "a, *_ = (2,4,6)\n",
    "print(a)"
   ]
  },
  {
   "cell_type": "code",
   "execution_count": 56,
   "id": "7dd26041",
   "metadata": {},
   "outputs": [
    {
     "name": "stdout",
     "output_type": "stream",
     "text": [
      "2\n",
      "[4, 6]\n"
     ]
    }
   ],
   "source": [
    "a, *b = (2,4,6)\n",
    "print(a)\n",
    "print(b)"
   ]
  },
  {
   "cell_type": "code",
   "execution_count": 58,
   "id": "04da3148",
   "metadata": {},
   "outputs": [
    {
     "name": "stdout",
     "output_type": "stream",
     "text": [
      "2\n",
      "[4, 6, 8]\n",
      "10\n"
     ]
    }
   ],
   "source": [
    "a, *b, c = (2,4,6,8,10)\n",
    "print(a)\n",
    "print(b)\n",
    "print(c)"
   ]
  },
  {
   "cell_type": "code",
   "execution_count": 62,
   "id": "1e3245d7",
   "metadata": {},
   "outputs": [
    {
     "name": "stdout",
     "output_type": "stream",
     "text": [
      "2\n",
      "10\n"
     ]
    }
   ],
   "source": [
    "a, *_, c = (2,4,6,8,10)\n",
    "print(a)\n",
    "print(c)"
   ]
  },
  {
   "cell_type": "code",
   "execution_count": 59,
   "id": "28922ccc",
   "metadata": {},
   "outputs": [
    {
     "name": "stdout",
     "output_type": "stream",
     "text": [
      "John Smith is 23 years old.\n"
     ]
    }
   ],
   "source": [
    "inputs = [\n",
    "    'John',\n",
    "    'Smith',\n",
    "    'USA',\n",
    "    'Blue',\n",
    "    'Brown',\n",
    "    23\n",
    "]\n",
    "\n",
    "first_name, last_name, *_, age = inputs\n",
    "\n",
    "print(f'{first_name} {last_name} is {age} years old.')"
   ]
  },
  {
   "cell_type": "markdown",
   "id": "8536c568",
   "metadata": {},
   "source": [
    "## get index"
   ]
  },
  {
   "cell_type": "code",
   "execution_count": 42,
   "id": "0a1e2dc7",
   "metadata": {},
   "outputs": [
    {
     "name": "stdout",
     "output_type": "stream",
     "text": [
      "index of 50 is 4\n"
     ]
    }
   ],
   "source": [
    "\"\"\"for list\"\"\"\n",
    "\n",
    "# using index method\n",
    "\n",
    "my_list = [10, 20, 30, 40, 50]\n",
    "value = 50\n",
    "\n",
    "if value in my_list:\n",
    "    index = my_list.index(value)\n",
    "    print(f'index of {value} is {index}')\n",
    "else:\n",
    "    print(\"Value not found in the list.\")\n"
   ]
  },
  {
   "cell_type": "code",
   "execution_count": 45,
   "id": "af083587",
   "metadata": {},
   "outputs": [
    {
     "name": "stdout",
     "output_type": "stream",
     "text": [
      "index of 50 is 4\n"
     ]
    }
   ],
   "source": [
    "\"\"\"for list\"\"\"\n",
    "\n",
    "# using enumerate without start\n",
    "\n",
    "my_list = [10, 20, 30, 40, 50]\n",
    "value = 50\n",
    "\n",
    "for index, val in enumerate(my_list):\n",
    "    if val == value:\n",
    "        print(f'index of {value} is {index}')\n",
    "        break"
   ]
  },
  {
   "cell_type": "code",
   "execution_count": 46,
   "id": "09bf21af",
   "metadata": {},
   "outputs": [
    {
     "name": "stdout",
     "output_type": "stream",
     "text": [
      "index of 50 is 5\n"
     ]
    }
   ],
   "source": [
    "\"\"\"for list\"\"\"\n",
    "\n",
    "# using enumerate with start\n",
    "\n",
    "my_list = [10, 20, 30, 40, 50]\n",
    "value = 50\n",
    "\n",
    "for index, val in enumerate(my_list, start=1):\n",
    "    if val == value:\n",
    "        print(f'index of {value} is {index}')\n",
    "        break"
   ]
  },
  {
   "cell_type": "code",
   "execution_count": 26,
   "id": "3140e8f1",
   "metadata": {},
   "outputs": [
    {
     "name": "stdout",
     "output_type": "stream",
     "text": [
      "Abcabc\n",
      "1\n"
     ]
    }
   ],
   "source": [
    "# for string\n",
    "\n",
    "x = 'abcABC'\n",
    "\n",
    "y = x.title()\n",
    "print(y)\n",
    "\n",
    "z = y.find('b')   # 'list' object has no attribute 'find'\n",
    "print(z)"
   ]
  },
  {
   "cell_type": "markdown",
   "id": "7362a0d6",
   "metadata": {},
   "source": [
    "## if satatement"
   ]
  },
  {
   "cell_type": "code",
   "execution_count": 41,
   "id": "7500c253",
   "metadata": {},
   "outputs": [
    {
     "name": "stdout",
     "output_type": "stream",
     "text": [
      "0\n",
      "0\n"
     ]
    }
   ],
   "source": [
    "if 2 > 3:\n",
    "    x = 1\n",
    "else:\n",
    "    x = 0\n",
    "print(x)\n",
    "\n",
    "\n",
    "x = 1 if 2 > 3 else 0\n",
    "print(x)"
   ]
  },
  {
   "cell_type": "code",
   "execution_count": 73,
   "id": "b1919380",
   "metadata": {},
   "outputs": [
    {
     "name": "stdout",
     "output_type": "stream",
     "text": [
      "Conditions not satisfied.\n"
     ]
    }
   ],
   "source": [
    "# conditions\n",
    "\n",
    "subs = 2400\n",
    "likes = 200\n",
    "comment = 56\n",
    "\n",
    "conditions = [\n",
    "    subs > 150,\n",
    "    likes > 150,\n",
    "    comment < 50\n",
    "]\n",
    "\n",
    "if all(conditions):\n",
    "    print('Conditions satisfied.')\n",
    "else:\n",
    "    print('Conditions not satisfied.')"
   ]
  },
  {
   "cell_type": "code",
   "execution_count": 74,
   "id": "c359e803",
   "metadata": {},
   "outputs": [
    {
     "name": "stdout",
     "output_type": "stream",
     "text": [
      "Conditions satisfied.\n"
     ]
    }
   ],
   "source": [
    "# conditions\n",
    "\n",
    "subs = 2400\n",
    "likes = 200\n",
    "comment = 56\n",
    "\n",
    "conditions = [\n",
    "    subs > 150,\n",
    "    likes > 150,\n",
    "    comment < 50\n",
    "]\n",
    "\n",
    "# not using all(conditions)\n",
    "if conditions:                   \n",
    "    print('Conditions satisfied.')\n",
    "else:\n",
    "    print('Conditions not satisfied.')"
   ]
  },
  {
   "cell_type": "code",
   "execution_count": 75,
   "id": "00dbacda",
   "metadata": {},
   "outputs": [
    {
     "name": "stdout",
     "output_type": "stream",
     "text": [
      "Conditions satisfied.\n"
     ]
    }
   ],
   "source": [
    "# conditions\n",
    "\n",
    "subs = 2400\n",
    "likes = 200\n",
    "comment = 56\n",
    "\n",
    "checkers = [\n",
    "    subs > 150,\n",
    "    likes > 150,\n",
    "    comment < 50\n",
    "]\n",
    "\n",
    "# not using any(checkers)\n",
    "if any(checkers):                   \n",
    "    print('Conditions satisfied.')\n",
    "else:\n",
    "    print('Conditions not satisfied.')"
   ]
  },
  {
   "cell_type": "code",
   "execution_count": null,
   "id": "fdfc91fc",
   "metadata": {},
   "outputs": [],
   "source": []
  },
  {
   "cell_type": "markdown",
   "id": "3410f79a",
   "metadata": {},
   "source": [
    "## list comprehension"
   ]
  },
  {
   "cell_type": "code",
   "execution_count": 13,
   "id": "ab9a52d0",
   "metadata": {},
   "outputs": [
    {
     "name": "stdout",
     "output_type": "stream",
     "text": [
      "[0, 1, 2, 3, 4, 5, 6, 7, 8, 9, 10]\n"
     ]
    }
   ],
   "source": [
    "nlist = [i for i in range(11)]\n",
    "print(nlist)"
   ]
  },
  {
   "cell_type": "code",
   "execution_count": 16,
   "id": "b675e62a",
   "metadata": {},
   "outputs": [
    {
     "name": "stdout",
     "output_type": "stream",
     "text": [
      "[0, 2, 4, 6, 8, 10]\n"
     ]
    }
   ],
   "source": [
    "# list comprehension with if statement\n",
    "\n",
    "nlist = [i for i in range(11) if i%2==0]\n",
    "print(nlist)"
   ]
  },
  {
   "cell_type": "code",
   "execution_count": 17,
   "id": "f6b77fed",
   "metadata": {},
   "outputs": [
    {
     "name": "stdout",
     "output_type": "stream",
     "text": [
      "[0, 'odd', 2, 'odd', 4, 'odd', 6, 'odd', 8, 'odd', 10]\n"
     ]
    }
   ],
   "source": [
    "# list comprehension with if and else statement\n",
    "\n",
    "nlist = [i if i%2==0 else 'odd' for i in range(11)]\n",
    "print(nlist)"
   ]
  },
  {
   "cell_type": "code",
   "execution_count": 30,
   "id": "5d64e164",
   "metadata": {},
   "outputs": [
    {
     "name": "stdout",
     "output_type": "stream",
     "text": [
      "[[0, 0, 0, 0, 0], [0, 0, 0, 0, 0], [0, 0, 0, 0, 0], [0, 0, 0, 0, 0], [0, 0, 0, 0, 0]]\n"
     ]
    }
   ],
   "source": [
    "# list of list\n",
    "\n",
    "lol = [[0 for _ in range(5)] for _ in range(5) ]\n",
    "print(lol)"
   ]
  },
  {
   "cell_type": "markdown",
   "id": "d0381d17",
   "metadata": {},
   "source": [
    "## list comprehension + lambda"
   ]
  },
  {
   "cell_type": "code",
   "execution_count": 5,
   "id": "b3442221",
   "metadata": {},
   "outputs": [
    {
     "name": "stdout",
     "output_type": "stream",
     "text": [
      "200\n",
      "400\n",
      "600\n",
      "800\n"
     ]
    }
   ],
   "source": [
    "iter_list = [lambda arg=i: arg*100 for i in range(1,10) if i%2==0]\n",
    "for func in iter_list:\n",
    "    print(func())"
   ]
  },
  {
   "cell_type": "code",
   "execution_count": 6,
   "id": "acba5805",
   "metadata": {},
   "outputs": [
    {
     "name": "stdout",
     "output_type": "stream",
     "text": [
      "200\n",
      "400\n",
      "6\n",
      "8\n"
     ]
    }
   ],
   "source": [
    "iter_list = [lambda arg=i: arg*100 if arg<5 else arg for i in range(1,10) if i%2==0]\n",
    "for func in iter_list:\n",
    "    print(func())"
   ]
  },
  {
   "cell_type": "markdown",
   "id": "b5eb986d",
   "metadata": {},
   "source": [
    "## dictionary comprehension"
   ]
  },
  {
   "cell_type": "code",
   "execution_count": 19,
   "id": "fb0ca2dd",
   "metadata": {},
   "outputs": [
    {
     "name": "stdout",
     "output_type": "stream",
     "text": [
      "{'Akash': 5, 'Hira': 4, 'Abubakar': 8, 'Piash': 5}\n"
     ]
    }
   ],
   "source": [
    "names = [\n",
    "    'Akash',\n",
    "    'Hira',\n",
    "    'Abubakar',\n",
    "    'Piash'\n",
    "]\n",
    "\n",
    "length = {name: len(name) for name in names}\n",
    "\n",
    "print(length)"
   ]
  },
  {
   "cell_type": "code",
   "execution_count": 39,
   "id": "226eeaf3",
   "metadata": {},
   "outputs": [
    {
     "name": "stdout",
     "output_type": "stream",
     "text": [
      "{'h': 1, 'e': 2, 'l': 2, 'o': 1, ' ': 4, 'm': 3, 'y': 1, 'n': 1, 'a': 1, 'i': 2, 's': 1, 't': 1}\n",
      "{'l': 2, 'm': 3, 'n': 1, 'i': 2, 'o': 1, 'e': 2, ' ': 4, 'h': 1, 'y': 1, 'a': 1, 't': 1, 's': 1}\n"
     ]
    }
   ],
   "source": [
    "sentence = 'hello my name is tim'\n",
    "\n",
    "x = {char: sentence.count(char) for char in sentence}\n",
    "print(x)\n",
    "\n",
    "x = {char: sentence.count(char) for char in set(sentence)}\n",
    "print(x)"
   ]
  },
  {
   "cell_type": "markdown",
   "id": "ffccb06b",
   "metadata": {},
   "source": [
    "## tuple comprehension¶"
   ]
  },
  {
   "cell_type": "code",
   "execution_count": 34,
   "id": "0ac01111",
   "metadata": {},
   "outputs": [
    {
     "name": "stdout",
     "output_type": "stream",
     "text": [
      "('h', 'e', 'l', 'l', 'o')\n"
     ]
    }
   ],
   "source": [
    "x = (i for i in 'hello')\n",
    "print(tuple(x))"
   ]
  },
  {
   "cell_type": "code",
   "execution_count": null,
   "id": "f4472a00",
   "metadata": {},
   "outputs": [],
   "source": []
  },
  {
   "cell_type": "markdown",
   "id": "1d550411",
   "metadata": {},
   "source": [
    "## map\n",
    "---\n",
    "```The map() function in Python is used to apply a specified function to each item of an iterable (e.g., a list) and returns an iterator of the results.```"
   ]
  },
  {
   "cell_type": "code",
   "execution_count": 1,
   "id": "9a721fc5",
   "metadata": {},
   "outputs": [
    {
     "name": "stdout",
     "output_type": "stream",
     "text": [
      "['APPLE', 'BANANA', 'CHERRY']\n"
     ]
    }
   ],
   "source": [
    "def uppercase(s):\n",
    "    return s.upper()\n",
    "\n",
    "words = ['apple', 'banana', 'cherry']\n",
    "uppercase_words = map(uppercase, words)\n",
    "\n",
    "print(list(uppercase_words))"
   ]
  },
  {
   "cell_type": "code",
   "execution_count": 3,
   "id": "c0703eba",
   "metadata": {},
   "outputs": [
    {
     "name": "stdout",
     "output_type": "stream",
     "text": [
      "['APPLE', 'BANANA', 'CHERRY']\n"
     ]
    }
   ],
   "source": [
    "# using list comprehension\n",
    "\n",
    "def uppercase(s):\n",
    "    return s.upper()\n",
    "\n",
    "words = ['apple', 'banana', 'cherry']\n",
    "uppercase_words = [uppercase(word) for word in words]\n",
    "\n",
    "print(uppercase_words)"
   ]
  },
  {
   "cell_type": "code",
   "execution_count": null,
   "id": "c936a78e",
   "metadata": {},
   "outputs": [],
   "source": []
  },
  {
   "cell_type": "markdown",
   "id": "25ebf1ab",
   "metadata": {},
   "source": [
    "## Key words argumenet"
   ]
  },
  {
   "cell_type": "code",
   "execution_count": 8,
   "id": "8179b43a",
   "metadata": {},
   "outputs": [
    {
     "name": "stdout",
     "output_type": "stream",
     "text": [
      "{'a': 1, 'b': 2, 'c': 3}\n"
     ]
    }
   ],
   "source": [
    "def func(**k):\n",
    "    print(k)\n",
    "    return\n",
    "\n",
    "func(a=1, b=2, c=3)"
   ]
  },
  {
   "cell_type": "code",
   "execution_count": 10,
   "id": "a5d83b28",
   "metadata": {},
   "outputs": [
    {
     "name": "stdout",
     "output_type": "stream",
     "text": [
      "6\n"
     ]
    }
   ],
   "source": [
    "def func(**k):\n",
    "    ans = k['a'] * k['b'] * k['c']\n",
    "    print(ans)\n",
    "    return\n",
    "\n",
    "func(a=1, b=2, c=3)"
   ]
  },
  {
   "cell_type": "code",
   "execution_count": null,
   "id": "8c5d93b2",
   "metadata": {},
   "outputs": [],
   "source": []
  },
  {
   "cell_type": "code",
   "execution_count": null,
   "id": "49dc35ec",
   "metadata": {},
   "outputs": [],
   "source": []
  },
  {
   "cell_type": "code",
   "execution_count": null,
   "id": "b1ee3871",
   "metadata": {},
   "outputs": [],
   "source": []
  },
  {
   "cell_type": "code",
   "execution_count": null,
   "id": "c5ac8e1c",
   "metadata": {},
   "outputs": [],
   "source": []
  },
  {
   "cell_type": "code",
   "execution_count": null,
   "id": "a9123761",
   "metadata": {},
   "outputs": [],
   "source": []
  },
  {
   "cell_type": "code",
   "execution_count": null,
   "id": "19fe021f",
   "metadata": {},
   "outputs": [],
   "source": []
  },
  {
   "cell_type": "code",
   "execution_count": null,
   "id": "63005906",
   "metadata": {},
   "outputs": [],
   "source": []
  },
  {
   "cell_type": "code",
   "execution_count": null,
   "id": "090161c0",
   "metadata": {},
   "outputs": [],
   "source": []
  },
  {
   "cell_type": "code",
   "execution_count": null,
   "id": "18c0d92a",
   "metadata": {},
   "outputs": [],
   "source": []
  }
 ],
 "metadata": {
  "kernelspec": {
   "display_name": "Python 3 (ipykernel)",
   "language": "python",
   "name": "python3"
  },
  "language_info": {
   "codemirror_mode": {
    "name": "ipython",
    "version": 3
   },
   "file_extension": ".py",
   "mimetype": "text/x-python",
   "name": "python",
   "nbconvert_exporter": "python",
   "pygments_lexer": "ipython3",
   "version": "3.10.9"
  }
 },
 "nbformat": 4,
 "nbformat_minor": 5
}
