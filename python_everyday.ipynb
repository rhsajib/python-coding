{
 "cells": [
  {
   "cell_type": "markdown",
   "id": "0d2921b1",
   "metadata": {},
   "source": [
    "## Unpacking"
   ]
  },
  {
   "cell_type": "code",
   "execution_count": 11,
   "id": "37ee9ab4",
   "metadata": {},
   "outputs": [
    {
     "name": "stdout",
     "output_type": "stream",
     "text": [
      "John Smith is 23 years old.\n"
     ]
    }
   ],
   "source": [
    "inputs = [\n",
    "    'John',\n",
    "    'Smith',\n",
    "    'USA',\n",
    "    'Blue',\n",
    "    'Brown',\n",
    "    23\n",
    "]\n",
    "\n",
    "first, last, *_, age = inputs\n",
    "\n",
    "print(f'{first} {last} is {age} years old.')"
   ]
  },
  {
   "cell_type": "markdown",
   "id": "03b2b5e5",
   "metadata": {},
   "source": [
    "## list comprehension"
   ]
  },
  {
   "cell_type": "code",
   "execution_count": 13,
   "id": "6e67b8c6",
   "metadata": {},
   "outputs": [
    {
     "name": "stdout",
     "output_type": "stream",
     "text": [
      "[0, 1, 2, 3, 4, 5, 6, 7, 8, 9, 10]\n"
     ]
    }
   ],
   "source": [
    "nlist = [i for i in range(11)]\n",
    "print(nlist)"
   ]
  },
  {
   "cell_type": "code",
   "execution_count": 14,
   "id": "e5c39d3d",
   "metadata": {},
   "outputs": [
    {
     "name": "stdout",
     "output_type": "stream",
     "text": [
      "[0, 2, 4, 6, 8, 10]\n"
     ]
    }
   ],
   "source": [
    "nlist = [i for i in range(11) if i%2==0]\n",
    "print(nlist)"
   ]
  },
  {
   "cell_type": "code",
   "execution_count": 15,
   "id": "4e15d864",
   "metadata": {},
   "outputs": [
    {
     "name": "stdout",
     "output_type": "stream",
     "text": [
      "[0, 'odd', 2, 'odd', 4, 'odd', 6, 'odd', 8, 'odd', 10]\n"
     ]
    }
   ],
   "source": [
    "nlist = [i if i%2==0 else 'odd' for i in range(11)]\n",
    "print(nlist)"
   ]
  },
  {
   "cell_type": "markdown",
   "id": "c357f77d",
   "metadata": {},
   "source": [
    "## list comprehension + lambda"
   ]
  },
  {
   "cell_type": "code",
   "execution_count": 5,
   "id": "df54276c",
   "metadata": {},
   "outputs": [
    {
     "name": "stdout",
     "output_type": "stream",
     "text": [
      "200\n",
      "400\n",
      "600\n",
      "800\n"
     ]
    }
   ],
   "source": [
    "iter_list = [lambda arg=i: arg*100 for i in range(1,10) if i%2==0]\n",
    "for func in iter_list:\n",
    "    print(func())"
   ]
  },
  {
   "cell_type": "code",
   "execution_count": 6,
   "id": "17734d57",
   "metadata": {},
   "outputs": [
    {
     "name": "stdout",
     "output_type": "stream",
     "text": [
      "200\n",
      "400\n",
      "6\n",
      "8\n"
     ]
    }
   ],
   "source": [
    "iter_list = [lambda arg=i: arg*100 if arg<5 else arg for i in range(1,10) if i%2==0]\n",
    "for func in iter_list:\n",
    "    print(func())"
   ]
  },
  {
   "cell_type": "markdown",
   "id": "1a068f70",
   "metadata": {},
   "source": [
    "## Key words argumenet"
   ]
  },
  {
   "cell_type": "code",
   "execution_count": 8,
   "id": "40349c40",
   "metadata": {},
   "outputs": [
    {
     "name": "stdout",
     "output_type": "stream",
     "text": [
      "{'a': 1, 'b': 2, 'c': 3}\n"
     ]
    }
   ],
   "source": [
    "def func(**k):\n",
    "    print(k)\n",
    "    return\n",
    "\n",
    "func(a=1, b=2, c=3)"
   ]
  },
  {
   "cell_type": "code",
   "execution_count": 10,
   "id": "7b0733ea",
   "metadata": {},
   "outputs": [
    {
     "name": "stdout",
     "output_type": "stream",
     "text": [
      "6\n"
     ]
    }
   ],
   "source": [
    "def func(**k):\n",
    "    ans = k['a'] * k['b'] * k['c']\n",
    "    print(ans)\n",
    "    return\n",
    "\n",
    "func(a=1, b=2, c=3)"
   ]
  },
  {
   "cell_type": "code",
   "execution_count": null,
   "id": "5883757c",
   "metadata": {},
   "outputs": [],
   "source": []
  },
  {
   "cell_type": "code",
   "execution_count": null,
   "id": "e15c5926",
   "metadata": {},
   "outputs": [],
   "source": []
  },
  {
   "cell_type": "code",
   "execution_count": null,
   "id": "b0c4d276",
   "metadata": {},
   "outputs": [],
   "source": []
  },
  {
   "cell_type": "code",
   "execution_count": null,
   "id": "ac65ad2a",
   "metadata": {},
   "outputs": [],
   "source": []
  },
  {
   "cell_type": "code",
   "execution_count": null,
   "id": "9a632972",
   "metadata": {},
   "outputs": [],
   "source": []
  },
  {
   "cell_type": "code",
   "execution_count": null,
   "id": "df5ba75f",
   "metadata": {},
   "outputs": [],
   "source": []
  },
  {
   "cell_type": "code",
   "execution_count": null,
   "id": "e8e7d512",
   "metadata": {},
   "outputs": [],
   "source": []
  },
  {
   "cell_type": "code",
   "execution_count": null,
   "id": "4da7ad01",
   "metadata": {},
   "outputs": [],
   "source": []
  },
  {
   "cell_type": "code",
   "execution_count": null,
   "id": "0e4964c6",
   "metadata": {},
   "outputs": [],
   "source": []
  }
 ],
 "metadata": {
  "kernelspec": {
   "display_name": "Python 3 (ipykernel)",
   "language": "python",
   "name": "python3"
  },
  "language_info": {
   "codemirror_mode": {
    "name": "ipython",
    "version": 3
   },
   "file_extension": ".py",
   "mimetype": "text/x-python",
   "name": "python",
   "nbconvert_exporter": "python",
   "pygments_lexer": "ipython3",
   "version": "3.10.9"
  }
 },
 "nbformat": 4,
 "nbformat_minor": 5
}
