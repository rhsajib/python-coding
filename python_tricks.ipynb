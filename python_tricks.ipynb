{
 "cells": [
  {
   "cell_type": "markdown",
   "id": "0a9ec3c1",
   "metadata": {},
   "source": [
    "## list comprehension + lambda"
   ]
  },
  {
   "cell_type": "code",
   "execution_count": 5,
   "id": "e5b13bdd",
   "metadata": {},
   "outputs": [
    {
     "name": "stdout",
     "output_type": "stream",
     "text": [
      "200\n",
      "400\n",
      "600\n",
      "800\n"
     ]
    }
   ],
   "source": [
    "iter_list = [lambda arg=i: arg*100 for i in range(1,10) if i%2==0]\n",
    "for func in iter_list:\n",
    "    print(func())"
   ]
  },
  {
   "cell_type": "code",
   "execution_count": 6,
   "id": "fe3f1c31",
   "metadata": {},
   "outputs": [
    {
     "name": "stdout",
     "output_type": "stream",
     "text": [
      "200\n",
      "400\n",
      "6\n",
      "8\n"
     ]
    }
   ],
   "source": [
    "iter_list = [lambda arg=i: arg*100 if arg<5 else arg for i in range(1,10) if i%2==0]\n",
    "for func in iter_list:\n",
    "    print(func())"
   ]
  },
  {
   "cell_type": "code",
   "execution_count": null,
   "id": "83e9a7de",
   "metadata": {},
   "outputs": [],
   "source": []
  }
 ],
 "metadata": {
  "kernelspec": {
   "display_name": "Python 3 (ipykernel)",
   "language": "python",
   "name": "python3"
  },
  "language_info": {
   "codemirror_mode": {
    "name": "ipython",
    "version": 3
   },
   "file_extension": ".py",
   "mimetype": "text/x-python",
   "name": "python",
   "nbconvert_exporter": "python",
   "pygments_lexer": "ipython3",
   "version": "3.10.9"
  }
 },
 "nbformat": 4,
 "nbformat_minor": 5
}
